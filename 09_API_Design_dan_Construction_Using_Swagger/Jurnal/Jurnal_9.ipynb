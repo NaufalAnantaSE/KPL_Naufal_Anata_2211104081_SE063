{
 "cells": [
  {
   "cell_type": "code",
   "execution_count": 1,
   "id": "5993ae9f",
   "metadata": {},
   "outputs": [
    {
     "name": "stdout",
     "output_type": "stream",
     "text": [
      "Collecting fastapi\n",
      "  Downloading fastapi-0.115.12-py3-none-any.whl.metadata (27 kB)\n",
      "Collecting uvicorn\n",
      "  Downloading uvicorn-0.34.3-py3-none-any.whl.metadata (6.5 kB)\n",
      "Requirement already satisfied: nest-asyncio in c:\\programdata\\miniconda3\\lib\\site-packages (1.6.0)\n",
      "Collecting pyngrok\n",
      "  Downloading pyngrok-7.2.11-py3-none-any.whl.metadata (9.4 kB)\n",
      "Collecting starlette<0.47.0,>=0.40.0 (from fastapi)\n",
      "  Downloading starlette-0.46.2-py3-none-any.whl.metadata (6.2 kB)\n",
      "Collecting pydantic!=1.8,!=1.8.1,!=2.0.0,!=2.0.1,!=2.1.0,<3.0.0,>=1.7.4 (from fastapi)\n",
      "  Downloading pydantic-2.11.5-py3-none-any.whl.metadata (67 kB)\n",
      "Requirement already satisfied: typing-extensions>=4.8.0 in c:\\programdata\\miniconda3\\lib\\site-packages (from fastapi) (4.14.0)\n",
      "Collecting click>=7.0 (from uvicorn)\n",
      "  Downloading click-8.2.1-py3-none-any.whl.metadata (2.5 kB)\n",
      "Collecting h11>=0.8 (from uvicorn)\n",
      "  Downloading h11-0.16.0-py3-none-any.whl.metadata (8.3 kB)\n",
      "Collecting PyYAML>=5.1 (from pyngrok)\n",
      "  Downloading PyYAML-6.0.2-cp312-cp312-win_amd64.whl.metadata (2.1 kB)\n",
      "Requirement already satisfied: colorama in c:\\programdata\\miniconda3\\lib\\site-packages (from click>=7.0->uvicorn) (0.4.6)\n",
      "Collecting annotated-types>=0.6.0 (from pydantic!=1.8,!=1.8.1,!=2.0.0,!=2.0.1,!=2.1.0,<3.0.0,>=1.7.4->fastapi)\n",
      "  Using cached annotated_types-0.7.0-py3-none-any.whl.metadata (15 kB)\n",
      "Collecting pydantic-core==2.33.2 (from pydantic!=1.8,!=1.8.1,!=2.0.0,!=2.0.1,!=2.1.0,<3.0.0,>=1.7.4->fastapi)\n",
      "  Downloading pydantic_core-2.33.2-cp312-cp312-win_amd64.whl.metadata (6.9 kB)\n",
      "Collecting typing-inspection>=0.4.0 (from pydantic!=1.8,!=1.8.1,!=2.0.0,!=2.0.1,!=2.1.0,<3.0.0,>=1.7.4->fastapi)\n",
      "  Downloading typing_inspection-0.4.1-py3-none-any.whl.metadata (2.6 kB)\n",
      "Collecting anyio<5,>=3.6.2 (from starlette<0.47.0,>=0.40.0->fastapi)\n",
      "  Downloading anyio-4.9.0-py3-none-any.whl.metadata (4.7 kB)\n",
      "Requirement already satisfied: idna>=2.8 in c:\\programdata\\miniconda3\\lib\\site-packages (from anyio<5,>=3.6.2->starlette<0.47.0,>=0.40.0->fastapi) (3.7)\n",
      "Collecting sniffio>=1.1 (from anyio<5,>=3.6.2->starlette<0.47.0,>=0.40.0->fastapi)\n",
      "  Using cached sniffio-1.3.1-py3-none-any.whl.metadata (3.9 kB)\n",
      "Downloading fastapi-0.115.12-py3-none-any.whl (95 kB)\n",
      "Downloading uvicorn-0.34.3-py3-none-any.whl (62 kB)\n",
      "Downloading pyngrok-7.2.11-py3-none-any.whl (25 kB)\n",
      "Downloading click-8.2.1-py3-none-any.whl (102 kB)\n",
      "Downloading h11-0.16.0-py3-none-any.whl (37 kB)\n",
      "Downloading pydantic-2.11.5-py3-none-any.whl (444 kB)\n",
      "Downloading pydantic_core-2.33.2-cp312-cp312-win_amd64.whl (2.0 MB)\n",
      "   ---------------------------------------- 0.0/2.0 MB ? eta -:--:--\n",
      "   ---------------------------------------- 0.0/2.0 MB ? eta -:--:--\n",
      "   ---------------------------------------- 0.0/2.0 MB ? eta -:--:--\n",
      "   ---------------------------------------- 0.0/2.0 MB ? eta -:--:--\n",
      "   ---------------------------------------- 0.0/2.0 MB ? eta -:--:--\n",
      "   ---------------------------------------- 0.0/2.0 MB ? eta -:--:--\n",
      "   ---------------------------------------- 0.0/2.0 MB ? eta -:--:--\n",
      "   ----- ---------------------------------- 0.3/2.0 MB ? eta -:--:--\n",
      "   ----- ---------------------------------- 0.3/2.0 MB ? eta -:--:--\n",
      "   ----- ---------------------------------- 0.3/2.0 MB ? eta -:--:--\n",
      "   ----- ---------------------------------- 0.3/2.0 MB ? eta -:--:--\n",
      "   ----- ---------------------------------- 0.3/2.0 MB ? eta -:--:--\n",
      "   ----- ---------------------------------- 0.3/2.0 MB ? eta -:--:--\n",
      "   ---------- ----------------------------- 0.5/2.0 MB 197.4 kB/s eta 0:00:08\n",
      "   ---------- ----------------------------- 0.5/2.0 MB 197.4 kB/s eta 0:00:08\n",
      "   ---------- ----------------------------- 0.5/2.0 MB 197.4 kB/s eta 0:00:08\n",
      "   ---------- ----------------------------- 0.5/2.0 MB 197.4 kB/s eta 0:00:08\n",
      "   ---------- ----------------------------- 0.5/2.0 MB 197.4 kB/s eta 0:00:08\n",
      "   ---------- ----------------------------- 0.5/2.0 MB 197.4 kB/s eta 0:00:08\n",
      "   ---------- ----------------------------- 0.5/2.0 MB 197.4 kB/s eta 0:00:08\n",
      "   ---------- ----------------------------- 0.5/2.0 MB 197.4 kB/s eta 0:00:08\n",
      "   ---------------- ----------------------- 0.8/2.0 MB 177.5 kB/s eta 0:00:07\n",
      "   ---------------- ----------------------- 0.8/2.0 MB 177.5 kB/s eta 0:00:07\n",
      "   ---------------- ----------------------- 0.8/2.0 MB 177.5 kB/s eta 0:00:07\n",
      "   ---------------- ----------------------- 0.8/2.0 MB 177.5 kB/s eta 0:00:07\n",
      "   ---------------- ----------------------- 0.8/2.0 MB 177.5 kB/s eta 0:00:07\n",
      "   ---------------- ----------------------- 0.8/2.0 MB 177.5 kB/s eta 0:00:07\n",
      "   ---------------- ----------------------- 0.8/2.0 MB 177.5 kB/s eta 0:00:07\n",
      "   ---------------- ----------------------- 0.8/2.0 MB 177.5 kB/s eta 0:00:07\n",
      "   --------------------- ------------------ 1.0/2.0 MB 171.2 kB/s eta 0:00:06\n",
      "   --------------------- ------------------ 1.0/2.0 MB 171.2 kB/s eta 0:00:06\n",
      "   --------------------- ------------------ 1.0/2.0 MB 171.2 kB/s eta 0:00:06\n",
      "   --------------------- ------------------ 1.0/2.0 MB 171.2 kB/s eta 0:00:06\n",
      "   --------------------- ------------------ 1.0/2.0 MB 171.2 kB/s eta 0:00:06\n",
      "   --------------------- ------------------ 1.0/2.0 MB 171.2 kB/s eta 0:00:06\n",
      "   -------------------------- ------------- 1.3/2.0 MB 179.4 kB/s eta 0:00:04\n",
      "   -------------------------- ------------- 1.3/2.0 MB 179.4 kB/s eta 0:00:04\n",
      "   -------------------------- ------------- 1.3/2.0 MB 179.4 kB/s eta 0:00:04\n",
      "   -------------------------- ------------- 1.3/2.0 MB 179.4 kB/s eta 0:00:04\n",
      "   -------------------------- ------------- 1.3/2.0 MB 179.4 kB/s eta 0:00:04\n",
      "   -------------------------------- ------- 1.6/2.0 MB 187.7 kB/s eta 0:00:03\n",
      "   -------------------------------- ------- 1.6/2.0 MB 187.7 kB/s eta 0:00:03\n",
      "   -------------------------------- ------- 1.6/2.0 MB 187.7 kB/s eta 0:00:03\n",
      "   -------------------------------- ------- 1.6/2.0 MB 187.7 kB/s eta 0:00:03\n",
      "   -------------------------------- ------- 1.6/2.0 MB 187.7 kB/s eta 0:00:03\n",
      "   -------------------------------- ------- 1.6/2.0 MB 187.7 kB/s eta 0:00:03\n",
      "   -------------------------------- ------- 1.6/2.0 MB 187.7 kB/s eta 0:00:03\n",
      "   ------------------------------------- -- 1.8/2.0 MB 187.1 kB/s eta 0:00:01\n",
      "   ------------------------------------- -- 1.8/2.0 MB 187.1 kB/s eta 0:00:01\n",
      "   ---------------------------------------- 2.0/2.0 MB 193.2 kB/s eta 0:00:00\n",
      "Downloading PyYAML-6.0.2-cp312-cp312-win_amd64.whl (156 kB)\n",
      "Downloading starlette-0.46.2-py3-none-any.whl (72 kB)\n",
      "Using cached annotated_types-0.7.0-py3-none-any.whl (13 kB)\n",
      "Downloading anyio-4.9.0-py3-none-any.whl (100 kB)\n",
      "Downloading typing_inspection-0.4.1-py3-none-any.whl (14 kB)\n",
      "Using cached sniffio-1.3.1-py3-none-any.whl (10 kB)\n",
      "Installing collected packages: typing-inspection, sniffio, PyYAML, pydantic-core, h11, click, annotated-types, uvicorn, pyngrok, pydantic, anyio, starlette, fastapi\n",
      "Successfully installed PyYAML-6.0.2 annotated-types-0.7.0 anyio-4.9.0 click-8.2.1 fastapi-0.115.12 h11-0.16.0 pydantic-2.11.5 pydantic-core-2.33.2 pyngrok-7.2.11 sniffio-1.3.1 starlette-0.46.2 typing-inspection-0.4.1 uvicorn-0.34.3\n",
      "Note: you may need to restart the kernel to use updated packages.\n"
     ]
    }
   ],
   "source": [
    "%pip install fastapi uvicorn nest-asyncio pyngrok"
   ]
  },
  {
   "cell_type": "code",
   "execution_count": 2,
   "id": "f91af2da",
   "metadata": {},
   "outputs": [
    {
     "name": "stdout",
     "output_type": "stream",
     "text": [
      "                                                                                                    \r"
     ]
    },
    {
     "name": "stderr",
     "output_type": "stream",
     "text": [
      "INFO:     Started server process [4504]\n",
      "INFO:     Waiting for application startup.\n",
      "INFO:     Application startup complete.\n",
      "INFO:     Uvicorn running on http://127.0.0.1:3000 (Press CTRL+C to quit)\n"
     ]
    },
    {
     "name": "stdout",
     "output_type": "stream",
     "text": [
      "🚀 Swagger UI: https://e698-112-78-156-225.ngrok-free.app/docs\n",
      "🚀 API URL: https://e698-112-78-156-225.ngrok-free.app\n",
      "INFO:     112.78.156.225:0 - \"GET /docs HTTP/1.1\" 200 OK\n",
      "INFO:     112.78.156.225:0 - \"GET /openapi.json HTTP/1.1\" 200 OK\n",
      "INFO:     112.78.156.225:0 - \"GET /api/Mahasiswa HTTP/1.1\" 200 OK\n",
      "INFO:     112.78.156.225:0 - \"POST /api/Mahasiswa HTTP/1.1\" 200 OK\n"
     ]
    },
    {
     "name": "stderr",
     "output_type": "stream",
     "text": [
      "C:\\Users\\viori\\AppData\\Local\\Temp\\ipykernel_4504\\3773085473.py:43: PydanticDeprecatedSince20: The `dict` method is deprecated; use `model_dump` instead. Deprecated in Pydantic V2.0 to be removed in V3.0. See Pydantic V2 Migration Guide at https://errors.pydantic.dev/2.11/migration/\n",
      "  mahasiswa_list.append(mahasiswa.dict())\n"
     ]
    },
    {
     "name": "stdout",
     "output_type": "stream",
     "text": [
      "INFO:     112.78.156.225:0 - \"GET /api/Mahasiswa/1 HTTP/1.1\" 200 OK\n",
      "INFO:     112.78.156.225:0 - \"GET /api/Mahasiswa/2 HTTP/1.1\" 200 OK\n",
      "INFO:     112.78.156.225:0 - \"GET /api/Mahasiswa/3 HTTP/1.1\" 200 OK\n",
      "INFO:     112.78.156.225:0 - \"GET /api/Mahasiswa/0 HTTP/1.1\" 200 OK\n",
      "INFO:     112.78.156.225:0 - \"DELETE /api/Mahasiswa/2 HTTP/1.1\" 200 OK\n"
     ]
    },
    {
     "name": "stderr",
     "output_type": "stream",
     "text": [
      "INFO:     Shutting down\n",
      "INFO:     Waiting for application shutdown.\n",
      "INFO:     Application shutdown complete.\n",
      "INFO:     Finished server process [4504]\n"
     ]
    }
   ],
   "source": [
    "# Import library\n",
    "from fastapi import FastAPI\n",
    "from pydantic import BaseModel\n",
    "import nest_asyncio\n",
    "from pyngrok import ngrok, conf\n",
    "import uvicorn\n",
    "\n",
    "# Inisialisasi FastAPI\n",
    "app = FastAPI()\n",
    "\n",
    "# Konfigurasi ngrok (ganti token dengan punyamu)\n",
    "conf.get_default().auth_token = \"2jFQGx5OeCHsBSZylzCsqblzJb3_3t3TBQXuyUPY9Tb3QoMPr\"\n",
    "\n",
    "# MODELS\n",
    "class Mahasiswa(BaseModel):\n",
    "    nama: str\n",
    "    nim: str\n",
    "    course: list[str]\n",
    "    year: int \n",
    "\n",
    "# DATA MAHASISWA - isi sesuai anggota kelompok (nama kamu paling atas)\n",
    "mahasiswa_list = [\n",
    "    {\"nama\": \"Naufal Ananta\", \"nim\": \"2211104081\", \"course\": [\"Fullstack\", \"Jawa\"], \"year\": 2023},\n",
    "    {\"nama\": \"John Doe\", \"nim\": \"1111111111\", \"course\": [\"Mathematics\", \"Physics\"], \"year\": 2023},\n",
    "    {\"nama\": \"Mark\", \"nim\": \"2222222222\", \"course\": [\"Chemistry\", \"Biology\"], \"year\": 2023},\n",
    "    {\"nama\": \"Jane\", \"nim\": \"4444444444\", \"course\": [\"History\", \"Geography\"], \"year\": 2023},\n",
    "\n",
    "]\n",
    "\n",
    "# ENDPOINTS\n",
    "@app.get(\"/api/Mahasiswa\")\n",
    "def get_semua_mahasiswa():\n",
    "    return mahasiswa_list\n",
    "\n",
    "@app.get(\"/api/Mahasiswa/{index}\")\n",
    "def get_mahasiswa(index: int):\n",
    "    if 0 <= index < len(mahasiswa_list):\n",
    "        return mahasiswa_list[index]\n",
    "    return {\"error\": \"Index tidak ditemukan\"}\n",
    "\n",
    "@app.post(\"/api/Mahasiswa\")\n",
    "def tambah_mahasiswa(mahasiswa: Mahasiswa):\n",
    "    mahasiswa_list.append(mahasiswa.dict())\n",
    "    return {\"pesan\": \"Mahasiswa berhasil ditambahkan\"}\n",
    "\n",
    "@app.delete(\"/api/Mahasiswa/{index}\")\n",
    "def hapus_mahasiswa(index: int):\n",
    "    if 0 <= index < len(mahasiswa_list):\n",
    "        deleted = mahasiswa_list.pop(index)\n",
    "        return {\"pesan\": \"Mahasiswa berhasil dihapus\", \"data\": deleted}\n",
    "    return {\"error\": \"Index tidak ditemukan\"}\n",
    "\n",
    "# Jalankan server\n",
    "nest_asyncio.apply()\n",
    "public_url = ngrok.connect(3000)\n",
    "print(\"🚀 Swagger UI:\", f\"{public_url.public_url}/docs\")\n",
    "print(\"🚀 API URL:\", public_url.public_url)\n",
    "\n",
    "uvicorn.run(app, port=3000)"
   ]
  }
 ],
 "metadata": {
  "kernelspec": {
   "display_name": "base",
   "language": "python",
   "name": "python3"
  },
  "language_info": {
   "codemirror_mode": {
    "name": "ipython",
    "version": 3
   },
   "file_extension": ".py",
   "mimetype": "text/x-python",
   "name": "python",
   "nbconvert_exporter": "python",
   "pygments_lexer": "ipython3",
   "version": "3.12.3"
  }
 },
 "nbformat": 4,
 "nbformat_minor": 5
}
