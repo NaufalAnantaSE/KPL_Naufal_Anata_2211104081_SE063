{
  "cells": [
    {
      "cell_type": "code",
      "execution_count": 6,
      "metadata": {
        "colab": {
          "base_uri": "https://localhost:8080/"
        },
        "id": "ixpotYmlRn4x",
        "outputId": "3b546a4d-e30f-45c8-f8d1-0639e6cfd952"
      },
      "outputs": [
        {
          "name": "stdout",
          "output_type": "stream",
          "text": [
            "Requirement already satisfied: fastapi in c:\\programdata\\miniconda3\\lib\\site-packages (0.115.12)\n",
            "Requirement already satisfied: uvicorn in c:\\programdata\\miniconda3\\lib\\site-packages (0.34.3)\n",
            "Requirement already satisfied: nest-asyncio in c:\\programdata\\miniconda3\\lib\\site-packages (1.6.0)\n",
            "Requirement already satisfied: pyngrok in c:\\programdata\\miniconda3\\lib\\site-packages (7.2.11)\n",
            "Requirement already satisfied: starlette<0.47.0,>=0.40.0 in c:\\programdata\\miniconda3\\lib\\site-packages (from fastapi) (0.46.2)\n",
            "Requirement already satisfied: pydantic!=1.8,!=1.8.1,!=2.0.0,!=2.0.1,!=2.1.0,<3.0.0,>=1.7.4 in c:\\programdata\\miniconda3\\lib\\site-packages (from fastapi) (2.11.5)\n",
            "Requirement already satisfied: typing-extensions>=4.8.0 in c:\\programdata\\miniconda3\\lib\\site-packages (from fastapi) (4.14.0)\n",
            "Requirement already satisfied: click>=7.0 in c:\\programdata\\miniconda3\\lib\\site-packages (from uvicorn) (8.2.1)\n",
            "Requirement already satisfied: h11>=0.8 in c:\\programdata\\miniconda3\\lib\\site-packages (from uvicorn) (0.16.0)\n",
            "Requirement already satisfied: PyYAML>=5.1 in c:\\programdata\\miniconda3\\lib\\site-packages (from pyngrok) (6.0.2)\n",
            "Requirement already satisfied: colorama in c:\\programdata\\miniconda3\\lib\\site-packages (from click>=7.0->uvicorn) (0.4.6)\n",
            "Requirement already satisfied: annotated-types>=0.6.0 in c:\\programdata\\miniconda3\\lib\\site-packages (from pydantic!=1.8,!=1.8.1,!=2.0.0,!=2.0.1,!=2.1.0,<3.0.0,>=1.7.4->fastapi) (0.7.0)\n",
            "Requirement already satisfied: pydantic-core==2.33.2 in c:\\programdata\\miniconda3\\lib\\site-packages (from pydantic!=1.8,!=1.8.1,!=2.0.0,!=2.0.1,!=2.1.0,<3.0.0,>=1.7.4->fastapi) (2.33.2)\n",
            "Requirement already satisfied: typing-inspection>=0.4.0 in c:\\programdata\\miniconda3\\lib\\site-packages (from pydantic!=1.8,!=1.8.1,!=2.0.0,!=2.0.1,!=2.1.0,<3.0.0,>=1.7.4->fastapi) (0.4.1)\n",
            "Requirement already satisfied: anyio<5,>=3.6.2 in c:\\programdata\\miniconda3\\lib\\site-packages (from starlette<0.47.0,>=0.40.0->fastapi) (4.9.0)\n",
            "Requirement already satisfied: idna>=2.8 in c:\\programdata\\miniconda3\\lib\\site-packages (from anyio<5,>=3.6.2->starlette<0.47.0,>=0.40.0->fastapi) (3.7)\n",
            "Requirement already satisfied: sniffio>=1.1 in c:\\programdata\\miniconda3\\lib\\site-packages (from anyio<5,>=3.6.2->starlette<0.47.0,>=0.40.0->fastapi) (1.3.1)\n",
            "Note: you may need to restart the kernel to use updated packages.\n"
          ]
        }
      ],
      "source": [
        "%pip install fastapi uvicorn nest-asyncio pyngrok"
      ]
    },
    {
      "cell_type": "code",
      "execution_count": null,
      "metadata": {
        "colab": {
          "base_uri": "https://localhost:8080/"
        },
        "id": "mH1xK31mSjzZ",
        "outputId": "9ce3b2ba-3e7d-4807-8d05-061d55db8521"
      },
      "outputs": [
        {
          "name": "stderr",
          "output_type": "stream",
          "text": [
            "t=2025-06-12T20:20:47+0700 lvl=warn msg=\"can't bind default web address, trying alternatives\" obj=web addr=127.0.0.1:4040\n",
            "INFO:     Started server process [7516]\n",
            "INFO:     Waiting for application startup.\n",
            "INFO:     Application startup complete.\n",
            "INFO:     Uvicorn running on http://127.0.0.1:8000 (Press CTRL+C to quit)\n"
          ]
        },
        {
          "name": "stdout",
          "output_type": "stream",
          "text": [
            "🚀 Swagger UI: https://4aa7-112-78-156-225.ngrok-free.app/docs\n",
            "🚀 API URL: https://4aa7-112-78-156-225.ngrok-free.app\n",
            "INFO:     112.78.156.225:0 - \"GET /docs HTTP/1.1\" 200 OK\n",
            "INFO:     112.78.156.225:0 - \"GET /openapi.json HTTP/1.1\" 200 OK\n",
            "INFO:     112.78.156.225:0 - \"GET /api/Mahasiswa HTTP/1.1\" 200 OK\n",
            "INFO:     112.78.156.225:0 - \"POST /api/Mahasiswa HTTP/1.1\" 200 OK\n"
          ]
        },
        {
          "name": "stderr",
          "output_type": "stream",
          "text": [
            "C:\\Users\\viori\\AppData\\Local\\Temp\\ipykernel_7516\\2428872973.py:40: PydanticDeprecatedSince20: The `dict` method is deprecated; use `model_dump` instead. Deprecated in Pydantic V2.0 to be removed in V3.0. See Pydantic V2 Migration Guide at https://errors.pydantic.dev/2.11/migration/\n",
            "  mahasiswa_list.append(mahasiswa.dict())\n"
          ]
        },
        {
          "name": "stdout",
          "output_type": "stream",
          "text": [
            "INFO:     112.78.156.225:0 - \"POST /api/Mahasiswa HTTP/1.1\" 200 OK\n",
            "INFO:     112.78.156.225:0 - \"GET /api/Mahasiswa/0 HTTP/1.1\" 200 OK\n",
            "INFO:     112.78.156.225:0 - \"DELETE /api/Mahasiswa/2 HTTP/1.1\" 200 OK\n"
          ]
        }
      ],
      "source": [
        "# Import library\n",
        "from fastapi import FastAPI\n",
        "from pydantic import BaseModel\n",
        "import nest_asyncio\n",
        "from pyngrok import ngrok, conf\n",
        "import uvicorn\n",
        "\n",
        "# Inisialisasi FastAPI\n",
        "app = FastAPI()\n",
        "\n",
        "# Konfigurasi ngrok (ganti token dengan punyamu)\n",
        "conf.get_default().auth_token = \"2yPRn9m533gmyapGA2yq8s389tH_2rKv4GYcr8PVQqsUqsguQ\"\n",
        "\n",
        "# MODELS\n",
        "class Mahasiswa(BaseModel):\n",
        "    nama: str\n",
        "    nim: str\n",
        "\n",
        "# DATA MAHASISWA - isi sesuai anggota kelompok (nama kamu paling atas)\n",
        "mahasiswa_list = [\n",
        "    {\"nama\": \"Naufal Ananta\", \"nim\": \"2211104081\"},\n",
        "    {\"nama\": \"John Doe\", \"nim\": \"1111111111\"},\n",
        "    {\"nama\": \"Mark\", \"nim\": \"2222222222\"},\n",
        "    {\"nama\": \"Sarah\", \"nim\": \"3333333333\"},\n",
        "]\n",
        "\n",
        "# ENDPOINTS\n",
        "@app.get(\"/api/Mahasiswa\")\n",
        "def get_semua_mahasiswa():\n",
        "    return mahasiswa_list\n",
        "\n",
        "@app.get(\"/api/Mahasiswa/{index}\")\n",
        "def get_mahasiswa(index: int):\n",
        "    if 0 <= index < len(mahasiswa_list):\n",
        "        return mahasiswa_list[index]\n",
        "    return {\"error\": \"Index tidak ditemukan\"}\n",
        "\n",
        "@app.post(\"/api/Mahasiswa\")\n",
        "def tambah_mahasiswa(mahasiswa: Mahasiswa):\n",
        "    mahasiswa_list.append(mahasiswa.dict())\n",
        "    return {\"pesan\": \"Mahasiswa berhasil ditambahkan\"}\n",
        "\n",
        "@app.delete(\"/api/Mahasiswa/{index}\")\n",
        "def hapus_mahasiswa(index: int):\n",
        "    if 0 <= index < len(mahasiswa_list):\n",
        "        deleted = mahasiswa_list.pop(index)\n",
        "        return {\"pesan\": \"Mahasiswa berhasil dihapus\", \"data\": deleted}\n",
        "    return {\"error\": \"Index tidak ditemukan\"}\n",
        "\n",
        "# Jalankan server\n",
        "nest_asyncio.apply()\n",
        "public_url = ngrok.connect(8000)\n",
        "print(\"🚀 Swagger UI:\", f\"{public_url.public_url}/docs\")\n",
        "print(\"🚀 API URL:\", public_url.public_url)\n",
        "\n",
        "uvicorn.run(app, port=8000)"
      ]
    }
  ],
  "metadata": {
    "colab": {
      "provenance": []
    },
    "kernelspec": {
      "display_name": "base",
      "language": "python",
      "name": "python3"
    },
    "language_info": {
      "codemirror_mode": {
        "name": "ipython",
        "version": 3
      },
      "file_extension": ".py",
      "mimetype": "text/x-python",
      "name": "python",
      "nbconvert_exporter": "python",
      "pygments_lexer": "ipython3",
      "version": "3.12.3"
    }
  },
  "nbformat": 4,
  "nbformat_minor": 0
}
